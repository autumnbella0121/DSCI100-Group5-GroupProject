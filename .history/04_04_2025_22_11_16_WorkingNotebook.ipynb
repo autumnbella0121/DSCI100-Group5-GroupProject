{
 "cells": [
  {
   "cell_type": "markdown",
   "id": "51648d6a-6c2a-4cf7-9b48-ae634efee6cc",
   "metadata": {},
   "source": [
    "Start of project"
   ]
  },
  {
   "cell_type": "markdown",
   "id": "791a5622-b1c5-43d6-af43-65df474ab4e7",
   "metadata": {},
   "source": [
    "## Methods\n",
    "To begin, the appropriate packages - including tidyverse, repr, and tidymodels - are loaded into the notebook. Then, the dataframe is loaded from a public GitHub repository. The data is wrangled using the select, filter, mutate, and drop_na functions. This data is now tailored to answer the research question. The dataframe is plotted on a scatterplot, comparing age to total hours played. Points are coloured according to subscription status, true meaning subscribed and false meaning not subscribed. The dataframe is split into training and testing data, in a 70:30 split. To initially test the prediction accuracy, a knn classification model is run using k = 3. Then, k is tuned using cross validation to determine accuracies and to find the k value with the highest prediction accuracy. Finally, the prediction accuracies were plotted as a line graph "
   ]
  },
  {
   "cell_type": "code",
   "execution_count": null,
   "id": "662f60e3-b161-4511-9a64-48a910e83dfd",
   "metadata": {},
   "outputs": [],
   "source": [
    "library(tidyverse)\n",
    "library(repr)\n",
    "library(tidymodels)\n",
    "options(repr.matrix.max.rows = 6)\n",
    "source(\"cleanup.R\")"
   ]
  },
  {
   "cell_type": "code",
   "execution_count": null,
   "id": "1dd03fc1-6094-415e-9f4e-049d5604866b",
   "metadata": {},
   "outputs": [],
   "source": [
    "player_data <- read_csv(\"https://raw.githubusercontent.com/Cna-51/minecraft_indiv/refs/heads/main/players%20(1).csv\") |>\n",
    "    select(-hashedEmail, -name, -experience) |>\n",
    "    filter(played_hours > 0) |>\n",
    "    mutate(subscribe = as.factor(subscribe)) |>\n",
    "    drop_na()\n",
    "player_data"
   ]
  },
  {
   "cell_type": "code",
   "execution_count": null,
   "id": "104ecf00-7074-4295-aad4-32aa487c195c",
   "metadata": {},
   "outputs": [],
   "source": [
    "player_plot <- player_data |>\n",
    "    ggplot(aes(x = Age, y = played_hours, colour = subscribe)) +\n",
    "    geom_point() +\n",
    "    labs(x = \"Player's Age (yrs)\", y = \"Player hours (hrs)\", colour = \"Subscribed\", title = \"Player's Age vs Played Hours\")\n",
    "player_plot"
   ]
  },
  {
   "cell_type": "code",
   "execution_count": null,
   "id": "a061ac8a-c027-41ac-8b48-d624b9d3fc59",
   "metadata": {},
   "outputs": [],
   "source": [
    "player_split <- initial_split(player_data, prop= 0.7-0.3, strata= subscribe) \n",
    "player_training <- training(player_split)\n",
    "player_testing <- testing(player_split)\n",
    "player_training\n",
    "player_testing"
   ]
  },
  {
   "cell_type": "code",
   "execution_count": null,
   "id": "846d05d2-1ca4-4215-9b87-3169f8ccdd32",
   "metadata": {},
   "outputs": [],
   "source": [
    "# First, we'll perform a knn classification with k = 3. \n",
    "set.seed(1234)\n",
    "player_recipe <- recipe(subscribe ~ played_hours + Age, data = player_training) |>\n",
    "    step_scale(all_predictors()) |>\n",
    "    step_center(all_predictors())\n",
    "player_spec <- nearest_neighbor(weight_func = \"rectangular\", neighbors = 3) |>\n",
    "    set_engine(\"kknn\") |>\n",
    "    set_mode(\"classification\")\n",
    "player_fit <- workflow() |>\n",
    "    add_recipe(player_recipe) |>\n",
    "    add_model(player_spec) |>\n",
    "    fit(data = player_training)\n",
    "player_predictions <- predict(player_fit, player_testing) |>\n",
    "    bind_cols(player_testing)\n",
    "prediction_accuracy <- player_predictions |>\n",
    "        metrics(truth = subscribe, estimate = .pred_class)             \n",
    "prediction_accuracy"
   ]
  },
  {
   "cell_type": "markdown",
   "id": "32adcbd8-8825-4c99-ab4e-d8da73a46216",
   "metadata": {},
   "source": [
    "This knn classification with k = 3 has an accuracy of around 62%. "
   ]
  },
  {
   "cell_type": "code",
   "execution_count": null,
   "id": "8657f4c0-7cbf-4f7e-b3de-532aaec41a9e",
   "metadata": {},
   "outputs": [],
   "source": [
    "# Then a cross validation is performed to test how this model works when split into multiple sections. \n",
    "# This will be done while tuning k to determine the most accurate k value. \n",
    "vfolds <- vfold_cv(player_training, v = 5, strata = subscribe) \n",
    "player_resample <- workflow() |>\n",
    "    add_recipe(player_recipe) |>\n",
    "    add_model(player_spec) |>\n",
    "    fit_resamples(resamples = vfolds) \n",
    "resample_metrics <- collect_metrics(player_resample)\n",
    "player_tune <- nearest_neighbor(weight_func = \"rectangular\", neighbors = tune()) |>\n",
    "    set_engine(\"kknn\") |>\n",
    "    set_mode(\"classification\") \n",
    "k_vals <- tibble(neighbors = seq(from = 1, to = 20, by = 1))\n",
    "tuned_results <- workflow() |>\n",
    "      add_recipe(player_recipe) |>\n",
    "      add_model(player_tune) |>\n",
    "      tune_grid(resamples = vfolds, grid = k_vals) |>\n",
    "      collect_metrics()\n",
    "accuracies <- tuned_results |> \n",
    "    filter(.metric == \"accuracy\") |>\n",
    "    arrange(desc(mean))\n",
    "accuracies "
   ]
  },
  {
   "cell_type": "code",
   "execution_count": null,
   "id": "50fffa42-14b2-485d-bd94-8b73a09f0138",
   "metadata": {},
   "outputs": [],
   "source": [
    "accuracy_plot <- accuracies |>\n",
    "    ggplot(aes(x = neighbors, y = mean)) +\n",
    "        geom_point() +\n",
    "        geom_line() +\n",
    "        labs(x = \"Number of neighbors /n (k =)\", y = \"Prediction accuracy (%)\", title = \"Accuracies for Ks 1 to 20\")\n",
    "accuracy_plot"
   ]
  }
 ],
 "metadata": {
  "kernelspec": {
   "display_name": "R",
   "language": "R",
   "name": "ir"
  },
  "language_info": {
   "codemirror_mode": "r",
   "file_extension": ".r",
   "mimetype": "text/x-r-source",
   "name": "R",
   "pygments_lexer": "r",
   "version": "4.3.3"
  }
 },
 "nbformat": 4,
 "nbformat_minor": 5
}
