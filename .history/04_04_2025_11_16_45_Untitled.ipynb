{
 "cells": [
  {
   "cell_type": "markdown",
   "id": "51648d6a-6c2a-4cf7-9b48-ae634efee6cc",
   "metadata": {},
   "source": [
    "## Predicting Players Subscription Status using KNN Classification Modelling "
   ]
  },
  {
   "cell_type": "markdown",
   "id": "380a476b-f18a-4864-a610-cca607b59e9a",
   "metadata": {},
   "source": [
    "**Introduction**\n",
    "provide some relevant background information on the topic so that someone unfamiliar with it will be prepared to understand the rest of your report\n",
    "clearly state the question you tried to answer with your project\n",
    "identify and fully describe the dataset that was used to answer the question\n",
    "\n",
    "A reseach group in Computer Sciences at UBC have collected data from a Minecraft server, with the goal of predicting usage of a video game research server. In this study, the question explored is What player characteristics and behaviors are most predictive of subscribing to a game-related newsletter?\n",
    "\n",
    "The specific question formulated is: Can age, gender, experience level, and hours played predict whether a player subscribes to the newsletter? The response variable is whether the player subscribes to the newsletter, represented by the subscribe column (a binary categorical variable). The explanatory variables are age, gender, experience level, and hours played.\n",
    "\n",
    "\n",
    "\n",
    "To analyze this, we will be looking at a dataset that includes the following columns:\n",
    "\n",
    "- `experience`: The level/rank of the player (catagorial)\n",
    "- `played_hours`- Number of hours spent on the game (numerical)\n",
    "-`gender-Players` gender identity (catagorial)\n",
    "Age- The age of player in years (numberical, ordered quantity)\n",
    "subscribe- If the player subscribed to a game-related newsletter (binary catagorial variable)\n"
   ]
  },
  {
   "cell_type": "code",
   "execution_count": null,
   "id": "662f60e3-b161-4511-9a64-48a910e83dfd",
   "metadata": {},
   "outputs": [],
   "source": [
    "library(tidyverse)\n",
    "library(repr)\n",
    "library(tidymodels)\n",
    "options(repr.matrix.max.rows = 6)\n",
    "source(\"cleanup.R\")"
   ]
  },
  {
   "cell_type": "code",
   "execution_count": null,
   "id": "1dd03fc1-6094-415e-9f4e-049d5604866b",
   "metadata": {},
   "outputs": [],
   "source": [
    "player_data <- read_csv(\"https://raw.githubusercontent.com/Cna-51/minecraft_indiv/refs/heads/main/players%20(1).csv\") |>\n",
    "    select(-hashedEmail, -name, -experience) |>\n",
    "    filter(played_hours > 0) |>\n",
    "    mutate(subscribe = as.factor(subscribe)) |>\n",
    "    drop_na()\n",
    "player_data"
   ]
  },
  {
   "cell_type": "code",
   "execution_count": null,
   "id": "104ecf00-7074-4295-aad4-32aa487c195c",
   "metadata": {},
   "outputs": [],
   "source": [
    "player_plot <- player_data |>\n",
    "    ggplot(aes(x = Age, y = played_hours, colour = subscribe)) +\n",
    "    geom_point() +\n",
    "    labs(x = \"Player's Age (yrs)\", y = \"Player hours (hrs)\", colour = \"Subscribed\", title = \"Player's Age vs Played Hours\")\n",
    "player_plot"
   ]
  },
  {
   "cell_type": "code",
   "execution_count": null,
   "id": "a061ac8a-c027-41ac-8b48-d624b9d3fc59",
   "metadata": {},
   "outputs": [],
   "source": [
    "player_split <- initial_split(player_data, prop= 0.7-0.3, strata= subscribe) \n",
    "player_training <- training(player_split)\n",
    "player_testing <- testing(player_split)\n",
    "player_training\n",
    "player_testing"
   ]
  },
  {
   "cell_type": "code",
   "execution_count": null,
   "id": "846d05d2-1ca4-4215-9b87-3169f8ccdd32",
   "metadata": {},
   "outputs": [],
   "source": [
    "set.seed(1234)\n",
    "player_recipe <- recipe(subscribe ~ played_hours + Age, data = player_training) |>\n",
    "    step_scale(all_predictors()) |>\n",
    "    step_center(all_predictors())\n",
    "player_spec <- nearest_neighbor(weight_func = \"rectangular\", neighbors = 3) |>\n",
    "    set_engine(\"kknn\") |>\n",
    "    set_mode(\"classification\")\n",
    "player_fit <- workflow() |>\n",
    "    add_recipe(player_recipe) |>\n",
    "    add_model(player_spec) |>\n",
    "    fit(data = player_training)\n",
    "player_predictions <- predict(player_fit, player_testing) |>\n",
    "    bind_cols(player_testing)\n",
    "prediction_accuracy <- player_predictions |>\n",
    "        metrics(truth = subscribe, estimate = .pred_class)             \n",
    "prediction_accuracy"
   ]
  },
  {
   "cell_type": "code",
   "execution_count": null,
   "id": "8657f4c0-7cbf-4f7e-b3de-532aaec41a9e",
   "metadata": {},
   "outputs": [],
   "source": []
  },
  {
   "cell_type": "code",
   "execution_count": null,
   "id": "9d4a1e82-7b65-4916-96a0-ea2de826626e",
   "metadata": {},
   "outputs": [],
   "source": []
  }
 ],
 "metadata": {
  "kernelspec": {
   "display_name": "R",
   "language": "R",
   "name": "ir"
  },
  "language_info": {
   "codemirror_mode": "r",
   "file_extension": ".r",
   "mimetype": "text/x-r-source",
   "name": "R",
   "pygments_lexer": "r",
   "version": "4.3.3"
  }
 },
 "nbformat": 4,
 "nbformat_minor": 5
}
