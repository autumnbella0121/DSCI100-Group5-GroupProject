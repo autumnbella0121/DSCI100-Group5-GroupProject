{
 "cells": [
  {
   "cell_type": "markdown",
   "id": "51648d6a-6c2a-4cf7-9b48-ae634efee6cc",
   "metadata": {},
   "source": [
    "Start of project"
   ]
  },
  {
   "cell_type": "code",
   "execution_count": null,
   "id": "662f60e3-b161-4511-9a64-48a910e83dfd",
   "metadata": {},
   "outputs": [],
   "source": [
    "library(tidyverse)\n",
    "library(repr)\n",
    "library(tidymodels)\n",
    "library(GGally)\n",
    "library(ISLR)\n",
    "options(repr.matrix.max.rows = 6)\n",
    "source(\"cleanup.R\")"
   ]
  },
  {
   "cell_type": "code",
   "execution_count": null,
   "id": "1dd03fc1-6094-415e-9f4e-049d5604866b",
   "metadata": {},
   "outputs": [],
   "source": [
    "player_data <- read_csv(\"https://raw.githubusercontent.com/Cna-51/minecraft_indiv/refs/heads/main/players%20(1).csv\")\n",
    "\n",
    "player_data"
   ]
  },
  {
   "cell_type": "code",
   "execution_count": null,
   "id": "45dd12cf-fed9-449f-902b-adb776fd5c2d",
   "metadata": {},
   "outputs": [],
   "source": [
    "players <- as_tibble(player_data)|>\n",
    "       select(-hashedEmail, -name) |>\n",
    "       filter(played_hours > 0)\n",
    "players "
   ]
  },
  {
   "cell_type": "code",
   "execution_count": null,
   "id": "a061ac8a-c027-41ac-8b48-d624b9d3fc59",
   "metadata": {},
   "outputs": [],
   "source": [
    "player_split <- initial_split(players, prop= 0.7-0.3, strata= subscribe) \n",
    "player_training <- training(player_split)\n",
    "player_testing <- testing(player_split)\n",
    "player_training\n",
    "player_testing"
   ]
  },
  {
   "cell_type": "code",
   "execution_count": null,
   "id": "846d05d2-1ca4-4215-9b87-3169f8ccdd32",
   "metadata": {},
   "outputs": [],
   "source": []
  },
  {
   "cell_type": "code",
   "execution_count": null,
   "id": "9d4a1e82-7b65-4916-96a0-ea2de826626e",
   "metadata": {},
   "outputs": [],
   "source": []
  }
 ],
 "metadata": {
  "kernelspec": {
   "display_name": "R",
   "language": "R",
   "name": "ir"
  },
  "language_info": {
   "codemirror_mode": "r",
   "file_extension": ".r",
   "mimetype": "text/x-r-source",
   "name": "R",
   "pygments_lexer": "r",
   "version": "4.3.3"
  }
 },
 "nbformat": 4,
 "nbformat_minor": 5
}
