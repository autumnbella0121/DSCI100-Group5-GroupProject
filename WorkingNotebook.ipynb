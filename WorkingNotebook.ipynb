{
 "cells": [
  {
   "cell_type": "markdown",
   "id": "51648d6a-6c2a-4cf7-9b48-ae634efee6cc",
   "metadata": {},
   "source": [
    "## Predicting Players Subscription Status using KNN Classification Modelling "
   ]
  },
  {
   "cell_type": "markdown",
   "id": "73b4e011-8790-44dc-9638-a7bb7cc30e7d",
   "metadata": {},
   "source": [
    "## Introduction\n",
    "\n",
    "\n",
    "A research group in Computer Science at UBC has collected data from a Minecraft server, with the goal of predicting usage of a video game research server. This study investigates the factors associated with a player's decision to subscribe to a game-related newsletter. Such a subscription may serve as a proxy for deeper engagement with the server or interest in the research project.\n",
    "\n",
    "\n",
    "**Research Question:**\n",
    "This study explores the question: *What player characteristics and behaviors are most predictive of subscribing to a game-related newsletter?*  \n",
    "More specifically, we ask: *Can age and hours played predict whether a player subscribes to the newsletter?*\n",
    "\n",
    "**Dataset Description**\n",
    "\n",
    "To answer this question, we analyze a dataset collected from the Minecraft research server. Each row in the dataset represents an individual player, with the following variables:\n",
    "\n",
    "- `experience`: The level or rank of the player (categorical, character)\n",
    "- `hashedEmail`: A hashed email identifier (likely anonymized) for a each particular player (character)\n",
    "- `played_hours`: The number of hours the player has spent on the server (double)\n",
    "- `gender`: The gender identity of the player (categorical, character)\n",
    "- `age`: The age of the player in years (double, ordered)\n",
    "- `subscribe`: Whether the player subscribed to the game-related newsletter (logical) \n",
    "The response variable is `subscribe`, and the explanatory variables are `age`, `gender`, `experience`, and `played_hours`.\n",
    "\n",
    "This report will explore relationships between these variables and apply predictive modeling techniques to determine which characteristics are most useful in predicting newsletter subscription.\n"
   ]
  },
  {
   "cell_type": "markdown",
   "id": "791a5622-b1c5-43d6-af43-65df474ab4e7",
   "metadata": {},
   "source": [
    "## Methods\n",
    "To begin, the appropriate packages - including tidyverse, repr, and tidymodels - are loaded into the notebook. Then, the dataframe is loaded from a public GitHub repository. The data is wrangled using the select, filter, mutate, and drop_na functions. This data is now tailored to answer the research question. The dataframe is plotted on a scatterplot, comparing age to total hours played. Points are coloured according to subscription status, true meaning subscribed and false meaning not subscribed. The dataframe is split into training and testing data, in a 70:30 split. To initially test the prediction accuracy, a knn classification model is run using k = 3. Then, k is tuned using cross validation to determine accuracies and to find the k value with the highest prediction accuracy. Finally, the prediction accuracies were plotted as a line graph to visualize the accuracies of the best ks. "
   ]
  },
  {
   "cell_type": "code",
   "execution_count": null,
   "id": "662f60e3-b161-4511-9a64-48a910e83dfd",
   "metadata": {},
   "outputs": [
    {
     "name": "stderr",
     "output_type": "stream",
     "text": [
      "── \u001b[1mAttaching core tidyverse packages\u001b[22m ──────────────────────── tidyverse 2.0.0 ──\n",
      "\u001b[32m✔\u001b[39m \u001b[34mdplyr    \u001b[39m 1.1.4     \u001b[32m✔\u001b[39m \u001b[34mreadr    \u001b[39m 2.1.5\n",
      "\u001b[32m✔\u001b[39m \u001b[34mforcats  \u001b[39m 1.0.0     \u001b[32m✔\u001b[39m \u001b[34mstringr  \u001b[39m 1.5.1\n",
      "\u001b[32m✔\u001b[39m \u001b[34mggplot2  \u001b[39m 3.5.1     \u001b[32m✔\u001b[39m \u001b[34mtibble   \u001b[39m 3.2.1\n",
      "\u001b[32m✔\u001b[39m \u001b[34mlubridate\u001b[39m 1.9.3     \u001b[32m✔\u001b[39m \u001b[34mtidyr    \u001b[39m 1.3.1\n",
      "\u001b[32m✔\u001b[39m \u001b[34mpurrr    \u001b[39m 1.0.2     \n",
      "── \u001b[1mConflicts\u001b[22m ────────────────────────────────────────── tidyverse_conflicts() ──\n",
      "\u001b[31m✖\u001b[39m \u001b[34mdplyr\u001b[39m::\u001b[32mfilter()\u001b[39m masks \u001b[34mstats\u001b[39m::filter()\n",
      "\u001b[31m✖\u001b[39m \u001b[34mdplyr\u001b[39m::\u001b[32mlag()\u001b[39m    masks \u001b[34mstats\u001b[39m::lag()\n",
      "\u001b[36mℹ\u001b[39m Use the conflicted package (\u001b[3m\u001b[34m<http://conflicted.r-lib.org/>\u001b[39m\u001b[23m) to force all conflicts to become errors\n"
     ]
    }
   ],
   "source": [
    "library(tidyverse)\n",
    "library(repr)\n",
    "library(tidymodels)\n",
    "options(repr.matrix.max.rows = 6)\n",
    "source(\"cleanup.R\")\n",
    "set.seed(1234)"
   ]
  },
  {
   "cell_type": "code",
   "execution_count": null,
   "id": "1dd03fc1-6094-415e-9f4e-049d5604866b",
   "metadata": {},
   "outputs": [],
   "source": [
    "player_data <- read_csv(\"https://raw.githubusercontent.com/Cna-51/minecraft_indiv/refs/heads/main/players%20(1).csv\") |>\n",
    "    select(-hashedEmail, -name, -experience) |>\n",
    "    filter(played_hours > 0) |>\n",
    "    mutate(subscribe = as.factor(subscribe)) |>\n",
    "    drop_na()\n",
    "player_data"
   ]
  },
  {
   "cell_type": "code",
   "execution_count": null,
   "id": "104ecf00-7074-4295-aad4-32aa487c195c",
   "metadata": {},
   "outputs": [],
   "source": [
    "player_plot <- player_data |>\n",
    "    ggplot(aes(x = Age, y = played_hours, colour = subscribe)) +\n",
    "    geom_point() +\n",
    "    labs(x = \"Player's Age (yrs)\", y = \"Played hours (hrs)\", colour = \"Subscribed\", title = \"Figure 1: Player's Age vs Played Hours\")\n",
    "player_plot"
   ]
  },
  {
   "cell_type": "markdown",
   "id": "c11560e7-15c5-4914-b073-3aacd163c38e",
   "metadata": {},
   "source": [
    "**Figure 1.** Player's played hours versus their age. Subscription status denoted by the colour of each point. Player ages range from 5 to 49 years old while the played hours range from 0.1 to 223.1 hours of play time.   "
   ]
  },
  {
   "cell_type": "code",
   "execution_count": null,
   "id": "a061ac8a-c027-41ac-8b48-d624b9d3fc59",
   "metadata": {},
   "outputs": [],
   "source": [
    "player_split <- initial_split(player_data, prop= 0.7, strata= subscribe) \n",
    "player_training <- training(player_split)\n",
    "player_testing <- testing(player_split)\n",
    "player_training\n",
    "player_testing"
   ]
  },
  {
   "cell_type": "code",
   "execution_count": null,
   "id": "846d05d2-1ca4-4215-9b87-3169f8ccdd32",
   "metadata": {
    "scrolled": true
   },
   "outputs": [],
   "source": [
    "# First, we'll perform a knn classification with k = 3. \n",
    "player_recipe <- recipe(subscribe ~ played_hours + Age, data = player_training) |>\n",
    "    step_scale(all_predictors()) |>\n",
    "    step_center(all_predictors())\n",
    "player_spec <- nearest_neighbor(weight_func = \"rectangular\", neighbors = 3) |>\n",
    "    set_engine(\"kknn\") |>\n",
    "    set_mode(\"classification\")\n",
    "player_fit <- workflow() |>\n",
    "    add_recipe(player_recipe) |>\n",
    "    add_model(player_spec) |>\n",
    "    fit(data = player_training)\n",
    "player_predictions <- predict(player_fit, player_testing) |>\n",
    "    bind_cols(player_testing)\n",
    "prediction_accuracy <- player_predictions |>\n",
    "        metrics(truth = subscribe, estimate = .pred_class)             \n",
    "prediction_accuracy"
   ]
  },
  {
   "cell_type": "markdown",
   "id": "32adcbd8-8825-4c99-ab4e-d8da73a46216",
   "metadata": {},
   "source": [
    "This knn classification with k = 3 has an accuracy of around 67.6%. "
   ]
  },
  {
   "cell_type": "code",
   "execution_count": null,
   "id": "8657f4c0-7cbf-4f7e-b3de-532aaec41a9e",
   "metadata": {},
   "outputs": [],
   "source": [
    "# Then a cross validation is performed to test how this model works when split into multiple sections. \n",
    "# This will be done while tuning k to determine the most accurate k value. \n",
    "vfolds <- vfold_cv(player_training, v = 5, strata = subscribe) \n",
    "player_resample <- workflow() |>\n",
    "    add_recipe(player_recipe) |>\n",
    "    add_model(player_spec) |>\n",
    "    fit_resamples(resamples = vfolds) \n",
    "resample_metrics <- collect_metrics(player_resample)\n",
    "player_tune <- nearest_neighbor(weight_func = \"rectangular\", neighbors = tune()) |>\n",
    "    set_engine(\"kknn\") |>\n",
    "    set_mode(\"classification\") \n",
    "k_vals <- tibble(neighbors = seq(from = 1, to = 20, by = 1))\n",
    "tuned_results <- workflow() |>\n",
    "      add_recipe(player_recipe) |>\n",
    "      add_model(player_tune) |>\n",
    "      tune_grid(resamples = vfolds, grid = k_vals) |>\n",
    "      collect_metrics()\n",
    "accuracies <- tuned_results |> \n",
    "    filter(.metric == \"accuracy\") |>\n",
    "    arrange(desc(mean))\n",
    "accuracies "
   ]
  },
  {
   "cell_type": "code",
   "execution_count": null,
   "id": "50fffa42-14b2-485d-bd94-8b73a09f0138",
   "metadata": {},
   "outputs": [],
   "source": [
    "accuracy_plot <- accuracies |>\n",
    "    ggplot(aes(x = neighbors, y = mean)) +\n",
    "        geom_point() +\n",
    "        geom_line() +\n",
    "        labs(x = \"Number of neighbors \\n (k)\", y = \"Prediction accuracy (%)\", title = \"Figure 2: Accuracies for Ks 1 to 20\")\n",
    "accuracy_plot"
   ]
  },
  {
   "cell_type": "markdown",
   "id": "1b0ba9b2-a3e5-490d-9b84-3fb157e58087",
   "metadata": {},
   "source": [
    "**Figure 2.** Plot of model prediction accuracy versus number of neighbours used in the classification model (k). The highest prediction accuracy of the model is at 81.4% where k = 4. "
   ]
  },
  {
   "cell_type": "code",
   "execution_count": null,
   "id": "611b6da4-a6cd-484e-8713-32bea54769d1",
   "metadata": {},
   "outputs": [],
   "source": [
    "best_k <- accuracies |> slice_max(mean, n = 1) |> pull(neighbors)\n",
    "best_k\n",
    "\n",
    "#put best k into next\n",
    "\n",
    "final_spec <- nearest_neighbor(weight_func = \"rectangular\", neighbors = min(best_k)) |> ##maybe neighbours is the lowest of best k?\n",
    "set_engine(\"kknn\") |>\n",
    "set_mode(\"classification\")\n",
    "final_fit <- workflow() |>\n",
    "add_recipe(player_recipe) |>\n",
    "add_model(final_spec) |>\n",
    "fit(data = player_training)\n",
    "\n",
    "final_predictions <- predict(final_fit, player_testing) |>\n",
    "bind_cols(player_testing)\n",
    "final_metrics <- final_predictions |>\n",
    "metrics(truth = subscribe, estimate = .pred_class)\n",
    "final_metrics\n",
    "\n",
    "\n",
    "conf_mat(final_predictions, truth = subscribe, estimate = .pred_class)\n",
    "\n",
    "pred_plot <- ggplot(final_predictions, aes(x = Age, y = played_hours, color = .pred_class, shape = subscribe)) +\n",
    "geom_point(alpha = 0.7) +\n",
    "labs(\n",
    "title = \"Figure 3: KNN Predictions on Test Set\",\n",
    "x = \"Age\",\n",
    "y = \"Hours Played\",\n",
    "color = \"Predicted Subscription\",\n",
    "shape = \"Actual Subscription\"\n",
    ") +\n",
    "theme_minimal()\n",
    "\n",
    "pred_plot"
   ]
  },
  {
   "cell_type": "markdown",
   "id": "3380c2e0-779f-46d3-a593-6b7e0dd98f45",
   "metadata": {},
   "source": [
    "**Figure 3.** Predicted versus actual labels for newsletter subscription. Predicted label indicated by the colour of a point and actual label indicated by the shape of the point."
   ]
  },
  {
   "cell_type": "markdown",
   "id": "fcbfadaf-3f21-4169-b00c-7c51222cdf49",
   "metadata": {},
   "source": [
    "## Discussion"
   ]
  },
  {
   "cell_type": "markdown",
   "id": "b45d3c4f-eb0c-4418-8d3b-3a7553c3c3bd",
   "metadata": {},
   "source": [
    "We found that our model was able to correctly predict whether or not a player was subscribed to the game-related newsletter based on the player's age and hours played approximately 81.4% of the time with a k of at 4. Other values of k resulted in lower accuracy, and any k of 9 or more plateaued at about 77.4%.\n",
    "\n",
    "This result aligns with what we expected to find. We expected that players who spend more time playing the game are more interested in things related to the game, and would therefore be more likely to subscribe to a game-related newsletter. We also did not expect the model to be able to predict this 100% of the time, due to other confounding variables not included in the model or in the dataset as a whole, such as a person's preference for other forms of coomunications or notifications, and potential email spam or data misuse.\n",
    "\n",
    "These findings could potentially provide the researchers with insight on reasons for a player subscribing, how they can increase the proportion of players who subscribe to the newsletter, and what the best way to communicate with players is. For example, given our results, the researchers may move to add another variable to the data such as \"preferred communication platform\" to see if players prefer to receive communications through email, text, or another method. Additionally, they could find a way to incentivise players with lower playig time to subscribe to the newsletter by offering exclusive in-game rewards.\n",
    "\n",
    "These findings could prompt further exploration of other predictor variables and their effect on newsletter subscribtion, such as investigating if one gender is more likely to subscribe ober the others, or if more experienced players would be more or less likely to subscribe to the newsletter. Specifically, if the newsletter contained content targeted toward beginners with basic tips and tricks, then a more experienced player would likely opt to not subscribe. Conversely, if the newsletter contained more advances techniques for the game and discussed higher-level gameplay, newer players may feel intimidated and reluctant to subscribe. These findings could help the researchers to further refine not only their data collection, but also the content of the newsletter and their overall approach for the study.   "
   ]
  },
  {
   "cell_type": "code",
   "execution_count": null,
   "id": "f14616fe-2a14-43ac-bb9d-d11b2262265f",
   "metadata": {},
   "outputs": [],
   "source": []
  }
 ],
 "metadata": {
  "kernelspec": {
   "display_name": "R",
   "language": "R",
   "name": "ir"
  },
  "language_info": {
   "codemirror_mode": "r",
   "file_extension": ".r",
   "mimetype": "text/x-r-source",
   "name": "R",
   "pygments_lexer": "r",
   "version": "4.3.3"
  }
 },
 "nbformat": 4,
 "nbformat_minor": 5
}
